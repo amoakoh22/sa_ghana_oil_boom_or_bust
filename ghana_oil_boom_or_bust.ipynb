{
  "nbformat": 4,
  "nbformat_minor": 0,
  "metadata": {
    "colab": {
      "provenance": [],
      "authorship_tag": "ABX9TyPS/F7oRMRVmj+x+2+HaApl",
      "include_colab_link": true
    },
    "kernelspec": {
      "name": "python3",
      "display_name": "Python 3"
    },
    "language_info": {
      "name": "python"
    }
  },
  "cells": [
    {
      "cell_type": "markdown",
      "metadata": {
        "id": "view-in-github",
        "colab_type": "text"
      },
      "source": [
        "<a href=\"https://colab.research.google.com/github/amoakoh22/sa_ghana_oil_boom_or_bust/blob/main/ghana_oil_boom_or_bust.ipynb\" target=\"_parent\"><img src=\"https://colab.research.google.com/assets/colab-badge.svg\" alt=\"Open In Colab\"/></a>"
      ]
    },
    {
      "cell_type": "code",
      "execution_count": null,
      "metadata": {
        "id": "dJddaA-D-onQ"
      },
      "outputs": [],
      "source": [
        "# Building Time Series Models for Ghana's Crude Oil Data with ARIMA and SARIMA on Google Colab"
      ]
    }
  ]
}